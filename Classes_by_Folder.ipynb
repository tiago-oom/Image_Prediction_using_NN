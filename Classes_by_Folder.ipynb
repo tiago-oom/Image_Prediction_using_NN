{
 "cells": [
  {
   "cell_type": "code",
   "execution_count": 1,
   "metadata": {},
   "outputs": [],
   "source": [
    "import os, glob\n",
    "\n",
    "# This assumes that this code is run inside\n",
    "# the directory with the image files\n",
    "\n",
    "# Path to the directory you will store \n",
    "# the directories with files (current here) \n",
    "path_to_files = os.getcwd()\n",
    "objectcodes = ['cloudy', 'rain', 'shine','sunrise' ];\n",
    "\n",
    "# For each objectcode\n",
    "for obc in objectcodes:\n",
    "    # Make a directory if it doesn't already exist\n",
    "    file_dir = os.path.join(path_to_files, obc)\n",
    "    if not os.path.isdir(file_dir):\n",
    "        os.mkdir(file_dir)\n",
    "        # If you need to set the permissions \n",
    "        # (this enables it all - may not be what you want)\n",
    "        os.chmod(file_dir, 0o777)\n",
    "\n",
    "    # Then move all the files that have that objectcode \n",
    "    # in them and end with *.jpeg to the correct dir\n",
    "    for fname in glob.glob('*' + obc + '*.jpg'):\n",
    "        # Move the file\n",
    "        os.rename(fname, os.path.join(file_dir, fname))"
   ]
  }
 ],
 "metadata": {
  "kernelspec": {
   "display_name": "Python 3 (ipykernel)",
   "language": "python",
   "name": "python3"
  },
  "language_info": {
   "codemirror_mode": {
    "name": "ipython",
    "version": 3
   },
   "file_extension": ".py",
   "mimetype": "text/x-python",
   "name": "python",
   "nbconvert_exporter": "python",
   "pygments_lexer": "ipython3",
   "version": "3.9.7"
  }
 },
 "nbformat": 4,
 "nbformat_minor": 4
}
