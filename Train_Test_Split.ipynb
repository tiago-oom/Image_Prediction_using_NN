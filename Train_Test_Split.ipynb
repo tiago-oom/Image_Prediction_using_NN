{
 "cells": [
  {
   "cell_type": "code",
   "execution_count": 2,
   "id": "59206ab5",
   "metadata": {},
   "outputs": [],
   "source": [
    "import splitfolders\n",
    "splitfolders.ratio('Data', output=\"weather\", seed=1337, ratio=(.7, 0.15, 0.15))"
   ]
  }
 ],
 "metadata": {
  "kernelspec": {
   "display_name": "Python 3 (ipykernel)",
   "language": "python",
   "name": "python3"
  },
  "language_info": {
   "codemirror_mode": {
    "name": "ipython",
    "version": 3
   },
   "file_extension": ".py",
   "mimetype": "text/x-python",
   "name": "python",
   "nbconvert_exporter": "python",
   "pygments_lexer": "ipython3",
   "version": "3.8.13"
  }
 },
 "nbformat": 4,
 "nbformat_minor": 5
}
